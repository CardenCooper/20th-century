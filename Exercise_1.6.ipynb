{
 "cells": [
  {
   "cell_type": "code",
   "execution_count": 1,
   "id": "ec1b02c4-9a60-457b-b5b7-0d148ca2aaea",
   "metadata": {
    "collapsed": true,
    "jupyter": {
     "outputs_hidden": true
    }
   },
   "outputs": [
    {
     "name": "stdout",
     "output_type": "stream",
     "text": [
      "Collecting en-core-web-sm==3.6.0\n",
      "  Downloading https://github.com/explosion/spacy-models/releases/download/en_core_web_sm-3.6.0/en_core_web_sm-3.6.0-py3-none-any.whl (12.8 MB)\n",
      "     ---------------------------------------- 0.0/12.8 MB ? eta -:--:--\n",
      "     ------ --------------------------------- 2.1/12.8 MB 14.7 MB/s eta 0:00:01\n",
      "     --------- ------------------------------ 2.9/12.8 MB 8.0 MB/s eta 0:00:02\n",
      "     ------------ --------------------------- 3.9/12.8 MB 6.9 MB/s eta 0:00:02\n",
      "     -------------- ------------------------- 4.7/12.8 MB 6.2 MB/s eta 0:00:02\n",
      "     ----------------- ---------------------- 5.5/12.8 MB 5.7 MB/s eta 0:00:02\n",
      "     ----------------------- ---------------- 7.6/12.8 MB 6.3 MB/s eta 0:00:01\n",
      "     ---------------------------------------- 12.8/12.8 MB 9.4 MB/s  0:00:01\n",
      "Requirement already satisfied: spacy<3.7.0,>=3.6.0 in e:\\anaconda\\envs\\20th_century\\lib\\site-packages (from en-core-web-sm==3.6.0) (3.6.1)\n",
      "Requirement already satisfied: spacy-legacy<3.1.0,>=3.0.11 in e:\\anaconda\\envs\\20th_century\\lib\\site-packages (from spacy<3.7.0,>=3.6.0->en-core-web-sm==3.6.0) (3.0.12)\n",
      "Requirement already satisfied: spacy-loggers<2.0.0,>=1.0.0 in e:\\anaconda\\envs\\20th_century\\lib\\site-packages (from spacy<3.7.0,>=3.6.0->en-core-web-sm==3.6.0) (1.0.4)\n",
      "Requirement already satisfied: murmurhash<1.1.0,>=0.28.0 in e:\\anaconda\\envs\\20th_century\\lib\\site-packages (from spacy<3.7.0,>=3.6.0->en-core-web-sm==3.6.0) (1.0.12)\n",
      "Requirement already satisfied: cymem<2.1.0,>=2.0.2 in e:\\anaconda\\envs\\20th_century\\lib\\site-packages (from spacy<3.7.0,>=3.6.0->en-core-web-sm==3.6.0) (2.0.11)\n",
      "Requirement already satisfied: preshed<3.1.0,>=3.0.2 in e:\\anaconda\\envs\\20th_century\\lib\\site-packages (from spacy<3.7.0,>=3.6.0->en-core-web-sm==3.6.0) (3.0.9)\n",
      "Requirement already satisfied: thinc<8.2.0,>=8.1.8 in e:\\anaconda\\envs\\20th_century\\lib\\site-packages (from spacy<3.7.0,>=3.6.0->en-core-web-sm==3.6.0) (8.1.10)\n",
      "Requirement already satisfied: wasabi<1.2.0,>=0.9.1 in e:\\anaconda\\envs\\20th_century\\lib\\site-packages (from spacy<3.7.0,>=3.6.0->en-core-web-sm==3.6.0) (1.1.3)\n",
      "Requirement already satisfied: srsly<3.0.0,>=2.4.3 in e:\\anaconda\\envs\\20th_century\\lib\\site-packages (from spacy<3.7.0,>=3.6.0->en-core-web-sm==3.6.0) (2.5.1)\n",
      "Requirement already satisfied: catalogue<2.1.0,>=2.0.6 in e:\\anaconda\\envs\\20th_century\\lib\\site-packages (from spacy<3.7.0,>=3.6.0->en-core-web-sm==3.6.0) (2.0.10)\n",
      "Requirement already satisfied: typer<0.10.0,>=0.3.0 in e:\\anaconda\\envs\\20th_century\\lib\\site-packages (from spacy<3.7.0,>=3.6.0->en-core-web-sm==3.6.0) (0.4.1)\n",
      "Requirement already satisfied: pathy>=0.10.0 in e:\\anaconda\\envs\\20th_century\\lib\\site-packages (from spacy<3.7.0,>=3.6.0->en-core-web-sm==3.6.0) (0.10.3)\n",
      "Requirement already satisfied: smart-open<7.0.0,>=5.2.1 in e:\\anaconda\\envs\\20th_century\\lib\\site-packages (from spacy<3.7.0,>=3.6.0->en-core-web-sm==3.6.0) (5.2.1)\n",
      "Requirement already satisfied: tqdm<5.0.0,>=4.38.0 in e:\\anaconda\\envs\\20th_century\\lib\\site-packages (from spacy<3.7.0,>=3.6.0->en-core-web-sm==3.6.0) (4.67.1)\n",
      "Requirement already satisfied: numpy>=1.15.0 in e:\\anaconda\\envs\\20th_century\\lib\\site-packages (from spacy<3.7.0,>=3.6.0->en-core-web-sm==3.6.0) (1.26.4)\n",
      "Requirement already satisfied: requests<3.0.0,>=2.13.0 in e:\\anaconda\\envs\\20th_century\\lib\\site-packages (from spacy<3.7.0,>=3.6.0->en-core-web-sm==3.6.0) (2.32.5)\n",
      "Requirement already satisfied: pydantic!=1.8,!=1.8.1,<3.0.0,>=1.7.4 in e:\\anaconda\\envs\\20th_century\\lib\\site-packages (from spacy<3.7.0,>=3.6.0->en-core-web-sm==3.6.0) (1.10.19)\n",
      "Requirement already satisfied: jinja2 in e:\\anaconda\\envs\\20th_century\\lib\\site-packages (from spacy<3.7.0,>=3.6.0->en-core-web-sm==3.6.0) (3.1.6)\n",
      "Requirement already satisfied: setuptools in e:\\anaconda\\envs\\20th_century\\lib\\site-packages (from spacy<3.7.0,>=3.6.0->en-core-web-sm==3.6.0) (78.1.1)\n",
      "Requirement already satisfied: packaging>=20.0 in e:\\anaconda\\envs\\20th_century\\lib\\site-packages (from spacy<3.7.0,>=3.6.0->en-core-web-sm==3.6.0) (25.0)\n",
      "Requirement already satisfied: langcodes<4.0.0,>=3.2.0 in e:\\anaconda\\envs\\20th_century\\lib\\site-packages (from spacy<3.7.0,>=3.6.0->en-core-web-sm==3.6.0) (3.5.0)\n",
      "Requirement already satisfied: language-data>=1.2 in e:\\anaconda\\envs\\20th_century\\lib\\site-packages (from langcodes<4.0.0,>=3.2.0->spacy<3.7.0,>=3.6.0->en-core-web-sm==3.6.0) (1.3.0)\n",
      "Requirement already satisfied: typing-extensions>=4.2.0 in e:\\anaconda\\envs\\20th_century\\lib\\site-packages (from pydantic!=1.8,!=1.8.1,<3.0.0,>=1.7.4->spacy<3.7.0,>=3.6.0->en-core-web-sm==3.6.0) (4.15.0)\n",
      "Requirement already satisfied: charset_normalizer<4,>=2 in e:\\anaconda\\envs\\20th_century\\lib\\site-packages (from requests<3.0.0,>=2.13.0->spacy<3.7.0,>=3.6.0->en-core-web-sm==3.6.0) (3.3.2)\n",
      "Requirement already satisfied: idna<4,>=2.5 in e:\\anaconda\\envs\\20th_century\\lib\\site-packages (from requests<3.0.0,>=2.13.0->spacy<3.7.0,>=3.6.0->en-core-web-sm==3.6.0) (3.7)\n",
      "Requirement already satisfied: urllib3<3,>=1.21.1 in e:\\anaconda\\envs\\20th_century\\lib\\site-packages (from requests<3.0.0,>=2.13.0->spacy<3.7.0,>=3.6.0->en-core-web-sm==3.6.0) (2.5.0)\n",
      "Requirement already satisfied: certifi>=2017.4.17 in e:\\anaconda\\envs\\20th_century\\lib\\site-packages (from requests<3.0.0,>=2.13.0->spacy<3.7.0,>=3.6.0->en-core-web-sm==3.6.0) (2025.8.3)\n",
      "Requirement already satisfied: blis<0.8.0,>=0.7.8 in e:\\anaconda\\envs\\20th_century\\lib\\site-packages (from thinc<8.2.0,>=8.1.8->spacy<3.7.0,>=3.6.0->en-core-web-sm==3.6.0) (0.7.9)\n",
      "Requirement already satisfied: confection<1.0.0,>=0.0.1 in e:\\anaconda\\envs\\20th_century\\lib\\site-packages (from thinc<8.2.0,>=8.1.8->spacy<3.7.0,>=3.6.0->en-core-web-sm==3.6.0) (0.1.5)\n",
      "Requirement already satisfied: colorama in e:\\anaconda\\envs\\20th_century\\lib\\site-packages (from tqdm<5.0.0,>=4.38.0->spacy<3.7.0,>=3.6.0->en-core-web-sm==3.6.0) (0.4.6)\n",
      "Requirement already satisfied: click<9.0.0,>=7.1.1 in e:\\anaconda\\envs\\20th_century\\lib\\site-packages (from typer<0.10.0,>=0.3.0->spacy<3.7.0,>=3.6.0->en-core-web-sm==3.6.0) (8.2.1)\n",
      "Requirement already satisfied: marisa-trie>=1.1.0 in e:\\anaconda\\envs\\20th_century\\lib\\site-packages (from language-data>=1.2->langcodes<4.0.0,>=3.2.0->spacy<3.7.0,>=3.6.0->en-core-web-sm==3.6.0) (1.3.1)\n",
      "Requirement already satisfied: MarkupSafe>=2.0 in e:\\anaconda\\envs\\20th_century\\lib\\site-packages (from jinja2->spacy<3.7.0,>=3.6.0->en-core-web-sm==3.6.0) (3.0.2)\n",
      "\u001b[38;5;2m[+] Download and installation successful\u001b[0m\n",
      "You can now load the package via spacy.load('en_core_web_sm')\n"
     ]
    }
   ],
   "source": [
    "import pandas as pd \n",
    "import numpy as np\n",
    "import spacy\n",
    "from spacy import displacy\n",
    "import networkx as nx\n",
    "import os\n",
    "import matplotlib.pyplot as plt\n",
    "import scipy\n",
    "import re\n",
    "\n",
    "# Download spaCy English model\n",
    "!python -m spacy download en_core_web_sm\n",
    "\n",
    "# Load spacy English module\n",
    "NER = spacy.load(\"en_core_web_sm\")"
   ]
  },
  {
   "cell_type": "code",
   "execution_count": 2,
   "id": "5c8fcef5-9a4d-4b3c-9942-92d4ae044e22",
   "metadata": {},
   "outputs": [],
   "source": [
    "# Load your scraped text\n",
    "with open('Key_Events_Of_The_20th_Century_CLEAN.txt', 'r', errors='ignore') as file: \n",
    "    data = file.read().replace('\\n', ' ')\n",
    "\n",
    "book = NER(data)"
   ]
  },
  {
   "cell_type": "code",
   "execution_count": 3,
   "id": "59fae695-9e9d-4cfd-a3ec-a2521bd7b039",
   "metadata": {
    "collapsed": true,
    "jupyter": {
     "outputs_hidden": true
    },
    "scrolled": true
   },
   "outputs": [
    {
     "data": {
      "text/plain": [
       "{'&',\n",
       " '-',\n",
       " '/',\n",
       " '=',\n",
       " '^',\n",
       " '_',\n",
       " '|',\n",
       " '¡',\n",
       " '¢',\n",
       " '£',\n",
       " '¦',\n",
       " '§',\n",
       " '¨',\n",
       " '©',\n",
       " '¬',\n",
       " '\\xad',\n",
       " '®',\n",
       " '¯',\n",
       " '°',\n",
       " '±',\n",
       " '²',\n",
       " '¶',\n",
       " '¸',\n",
       " '¹',\n",
       " 'º',\n",
       " '¼',\n",
       " '½',\n",
       " '¾',\n",
       " 'Â',\n",
       " 'Ã',\n",
       " 'Å',\n",
       " 'Æ',\n",
       " 'â',\n",
       " 'š',\n",
       " 'ž',\n",
       " 'ƒ',\n",
       " '’',\n",
       " '‚',\n",
       " '„',\n",
       " '†',\n",
       " '…',\n",
       " '€',\n",
       " '™'}"
      ]
     },
     "execution_count": 3,
     "metadata": {},
     "output_type": "execute_result"
    }
   ],
   "source": [
    "# Show a sample of text\n",
    "with open('Key_Events_Of_The_20th_Century_CLEAN.txt', 'r', errors='ignore') as f:\n",
    "    data = f.read()\n",
    "    # Count unusual characters\n",
    "special_chars = re.findall(r'[^A-Za-z0-9.,;:\\'\\\"!?()\\s]', data)\n",
    "set(special_chars)  # unique special characters in the text"
   ]
  },
  {
   "cell_type": "markdown",
   "id": "b399c54e-59cd-46a9-aa11-ab694254e1c2",
   "metadata": {},
   "source": [
    "## A lot of extra characters and white space present along with headings that aren't needed."
   ]
  },
  {
   "cell_type": "code",
   "execution_count": 4,
   "id": "c6985949-2114-4896-85cf-41405b63cf1e",
   "metadata": {},
   "outputs": [],
   "source": [
    "# removing extra characters\n",
    "\n",
    "data = data.replace(\"–\", \"-\").replace(\"“\", '\"').replace(\"”\", '\"').replace(\"…\", \"...\")"
   ]
  },
  {
   "cell_type": "code",
   "execution_count": 5,
   "id": "74bd10b5-52e7-4816-b96c-fdd4f3a737f2",
   "metadata": {},
   "outputs": [],
   "source": [
    "# Removing edit markers and \"Main article:\" references\n",
    "data = re.sub(r'\\[edit\\]', '', data)\n",
    "data = re.sub(r'Main article:.*\\n', '', data)"
   ]
  },
  {
   "cell_type": "code",
   "execution_count": 6,
   "id": "5f074945-f9a3-4b27-abdc-ff5ef0ee2e91",
   "metadata": {},
   "outputs": [],
   "source": [
    "# Removing navigation/boilerplate keywords\n",
    "boilerplate = [\"Jump to content\", \"Main menu\", \"move to sidebar\", \"hide\", \n",
    "               \"Donate\", \"Create account\", \"Log in\", \"Tools\", \"Print/export\", \n",
    "               \"References\", \"External links\"]\n",
    "for term in boilerplate:\n",
    "    data = data.replace(term, \"\")"
   ]
  },
  {
   "cell_type": "code",
   "execution_count": 7,
   "id": "cbd549c5-71bf-4a83-9b05-5436873997b8",
   "metadata": {},
   "outputs": [],
   "source": [
    "# Normalizing common Unicode mis-encodings\n",
    "data = data.replace(\"â€\", \"-\").replace(\"\\u200b\", \"\")"
   ]
  },
  {
   "cell_type": "code",
   "execution_count": 8,
   "id": "388f2d46-4a4b-41f1-aafd-5d2c61b8dd85",
   "metadata": {},
   "outputs": [],
   "source": [
    "# Standardizing white space\n",
    "\n",
    "data = re.sub(r'\\s+', ' ', data).strip()"
   ]
  },
  {
   "cell_type": "code",
   "execution_count": 9,
   "id": "4c90d927-6cc3-4ee9-8388-edd40cd8c268",
   "metadata": {},
   "outputs": [],
   "source": [
    "# saving cleaned version\n",
    "\n",
    "with open('Key_Events_Of_The_20th_Century_CLEAN.txt', 'w', encoding='utf-8') as f:\n",
    "    f.write(data)"
   ]
  },
  {
   "cell_type": "code",
   "execution_count": 10,
   "id": "89901e87-627a-4eca-bceb-5ab7e91c4574",
   "metadata": {},
   "outputs": [],
   "source": [
    "# loading the countries CSV\n",
    "\n",
    "countries_df = pd.read_csv(\"countries_list_20th_century_1.5.csv\")"
   ]
  },
  {
   "cell_type": "code",
   "execution_count": 11,
   "id": "cc25999c-77b7-4d5b-a03e-0b92a957cca2",
   "metadata": {},
   "outputs": [
    {
     "data": {
      "text/html": [
       "<div>\n",
       "<style scoped>\n",
       "    .dataframe tbody tr th:only-of-type {\n",
       "        vertical-align: middle;\n",
       "    }\n",
       "\n",
       "    .dataframe tbody tr th {\n",
       "        vertical-align: top;\n",
       "    }\n",
       "\n",
       "    .dataframe thead th {\n",
       "        text-align: right;\n",
       "    }\n",
       "</style>\n",
       "<table border=\"1\" class=\"dataframe\">\n",
       "  <thead>\n",
       "    <tr style=\"text-align: right;\">\n",
       "      <th></th>\n",
       "      <th>Unnamed: 0</th>\n",
       "      <th>country_name</th>\n",
       "    </tr>\n",
       "  </thead>\n",
       "  <tbody>\n",
       "    <tr>\n",
       "      <th>0</th>\n",
       "      <td>1</td>\n",
       "      <td>Afghanistan</td>\n",
       "    </tr>\n",
       "    <tr>\n",
       "      <th>1</th>\n",
       "      <td>2</td>\n",
       "      <td>Albania</td>\n",
       "    </tr>\n",
       "    <tr>\n",
       "      <th>2</th>\n",
       "      <td>3</td>\n",
       "      <td>Algeria</td>\n",
       "    </tr>\n",
       "    <tr>\n",
       "      <th>3</th>\n",
       "      <td>4</td>\n",
       "      <td>Andorra</td>\n",
       "    </tr>\n",
       "    <tr>\n",
       "      <th>4</th>\n",
       "      <td>5</td>\n",
       "      <td>Angola</td>\n",
       "    </tr>\n",
       "  </tbody>\n",
       "</table>\n",
       "</div>"
      ],
      "text/plain": [
       "   Unnamed: 0   country_name\n",
       "0           1   Afghanistan \n",
       "1           2       Albania \n",
       "2           3       Algeria \n",
       "3           4       Andorra \n",
       "4           5        Angola "
      ]
     },
     "execution_count": 11,
     "metadata": {},
     "output_type": "execute_result"
    }
   ],
   "source": [
    "# checking for column name\n",
    "\n",
    "countries_df.head()"
   ]
  },
  {
   "cell_type": "code",
   "execution_count": 12,
   "id": "d27758ce-08c1-4a47-a54a-7637bfdc19ce",
   "metadata": {},
   "outputs": [],
   "source": [
    "# all of the following is cleaning to make sure the missing countries syntax runs correctly\n",
    "\n",
    "country_list = list(countries_df['country_name'])"
   ]
  },
  {
   "cell_type": "code",
   "execution_count": 13,
   "id": "41798888-b054-46bd-a408-ea29d03d9cc2",
   "metadata": {},
   "outputs": [],
   "source": [
    "# Remove leading/trailing spaces\n",
    "country_list = [c.strip() for c in country_list]"
   ]
  },
  {
   "cell_type": "code",
   "execution_count": 14,
   "id": "305580e7-f991-4a83-8c90-830c35dc8fa3",
   "metadata": {},
   "outputs": [],
   "source": [
    "country_list = [c.replace(\" ,\", \",\").replace(\" , \", \", \").replace(\"  \", \" \") for c in country_list]"
   ]
  },
  {
   "cell_type": "code",
   "execution_count": 15,
   "id": "b4b666e8-2fcd-49b3-a596-67ad915cc038",
   "metadata": {},
   "outputs": [],
   "source": [
    "country_list = list(set(country_list))"
   ]
  },
  {
   "cell_type": "code",
   "execution_count": 16,
   "id": "e2938166-8d81-432b-8f86-36c0ff38718e",
   "metadata": {
    "collapsed": true,
    "jupyter": {
     "outputs_hidden": true
    },
    "scrolled": true
   },
   "outputs": [
    {
     "data": {
      "text/plain": [
       "['Suriname',\n",
       " 'Kiribati',\n",
       " 'Myanmar',\n",
       " 'Tanzania',\n",
       " 'Slovenia',\n",
       " 'Vatican City (Holy See)',\n",
       " 'Qatar',\n",
       " 'Malta',\n",
       " 'Mali',\n",
       " 'South Sudan',\n",
       " 'Tuvalu',\n",
       " 'Taiwan',\n",
       " 'Trinidad and Tobago',\n",
       " 'Sierra Leone',\n",
       " 'Iceland',\n",
       " 'Andorra',\n",
       " 'El Salvador',\n",
       " 'Ivory Coast',\n",
       " 'Mauritania',\n",
       " 'Georgia',\n",
       " 'Brunei',\n",
       " 'Korea, South',\n",
       " 'Tonga',\n",
       " 'Togo',\n",
       " 'Costa Rica',\n",
       " 'Burundi',\n",
       " 'Jordan',\n",
       " 'Jamaica',\n",
       " 'Croatia',\n",
       " 'Guatemala',\n",
       " 'Benin',\n",
       " 'New Zealand',\n",
       " 'Samoa',\n",
       " 'Brazil',\n",
       " 'Saudi Arabia',\n",
       " 'Peru',\n",
       " 'Somaliland',\n",
       " 'Tajikistan',\n",
       " 'East Timor',\n",
       " 'United Arab Emirates',\n",
       " 'Belize',\n",
       " 'Serbia',\n",
       " 'Venezuela',\n",
       " 'Kyrgyzstan',\n",
       " 'Saint Lucia',\n",
       " 'Uruguay',\n",
       " 'Oman',\n",
       " \"Luhansk People's Republic\",\n",
       " 'South Ossetia',\n",
       " 'Honduras',\n",
       " 'Congo, Republic of the',\n",
       " 'Marshall Islands',\n",
       " 'Lesotho',\n",
       " 'Mauritius',\n",
       " 'Yemen',\n",
       " 'Equatorial Guinea',\n",
       " 'Ecuador',\n",
       " 'Gambia, The',\n",
       " 'Congo, Democratic Republic of the',\n",
       " 'Monaco',\n",
       " 'Burkina Faso',\n",
       " 'Armenia',\n",
       " 'Central African Republic',\n",
       " 'São Tomé and Príncipe',\n",
       " 'Colombia',\n",
       " 'Uganda',\n",
       " 'Nauru',\n",
       " 'Nepal',\n",
       " 'Guyana',\n",
       " 'Gabon',\n",
       " 'Eritrea',\n",
       " 'Malaysia',\n",
       " 'Saint Kitts and Nevis',\n",
       " 'Slovakia',\n",
       " 'Bahamas, The',\n",
       " 'Turkey',\n",
       " 'Artsakh',\n",
       " 'Tunisia',\n",
       " 'Barbados',\n",
       " 'North Macedonia',\n",
       " 'Bosnia and Herzegovina',\n",
       " 'Eswatini',\n",
       " 'Malawi',\n",
       " 'Switzerland',\n",
       " 'Nicaragua',\n",
       " 'Abkhazia',\n",
       " 'Zambia',\n",
       " 'Transnistria',\n",
       " 'Syria',\n",
       " 'Sri Lanka',\n",
       " 'Fiji',\n",
       " 'Northern Cyprus',\n",
       " 'Chile',\n",
       " 'Liechtenstein',\n",
       " 'Maldives',\n",
       " 'Grenada',\n",
       " 'Azerbaijan',\n",
       " 'Dominican Republic',\n",
       " 'Antigua and Barbuda',\n",
       " 'Namibia',\n",
       " 'Saint Vincent and the Grenadines',\n",
       " \"Donetsk People's Republic\",\n",
       " 'Montenegro',\n",
       " 'San Marino',\n",
       " 'Sahrawi Arab Democratic Republic',\n",
       " 'Kuwait',\n",
       " 'Haiti',\n",
       " 'Kosovo',\n",
       " 'Madagascar',\n",
       " 'Kazakhstan',\n",
       " 'Uzbekistan',\n",
       " 'Cook Islands',\n",
       " 'Liberia',\n",
       " 'Djibouti',\n",
       " 'Argentina',\n",
       " 'Czech Republic',\n",
       " 'Palau',\n",
       " 'Botswana',\n",
       " 'Ireland',\n",
       " 'Ethiopia',\n",
       " 'Dominica',\n",
       " 'Korea, North',\n",
       " 'Paraguay',\n",
       " 'Micronesia, Federated States of',\n",
       " 'Bahrain',\n",
       " 'Bhutan',\n",
       " 'Zimbabwe',\n",
       " 'Niue',\n",
       " \"China, People's Republic of\",\n",
       " 'Comoros',\n",
       " 'Bolivia',\n",
       " 'Palestine',\n",
       " 'Cyprus',\n",
       " 'Vanuatu',\n",
       " 'Senegal',\n",
       " 'Cameroon',\n",
       " 'Chad',\n",
       " 'Indonesia',\n",
       " 'Turkmenistan',\n",
       " 'Portugal',\n",
       " 'Somalia']"
      ]
     },
     "execution_count": 16,
     "metadata": {},
     "output_type": "execute_result"
    }
   ],
   "source": [
    "# list of all countries in CSV that do not appear in the text\n",
    "\n",
    "missing_countries = [c for c in country_list if c not in data]\n",
    "missing_countries"
   ]
  },
  {
   "cell_type": "code",
   "execution_count": 22,
   "id": "0d4455e0-a5ed-495c-acda-76716b82b6f0",
   "metadata": {},
   "outputs": [],
   "source": [
    "# Splitting the sentence entities from the NER object\n",
    "\n",
    "df_sentences = []\n",
    "\n",
    "for sent in book.sents:\n",
    "    entity_list = [ent.text for ent in sent.ents if ent.text in country_list]\n",
    "    df_sentences.append({\"sentence\": sent.text, \"country_entities\": entity_list})\n",
    "\n",
    "df_sentences = pd.DataFrame(df_sentences)"
   ]
  },
  {
   "cell_type": "code",
   "execution_count": 24,
   "id": "fede65e9-313d-44d7-bb40-e8360856b1db",
   "metadata": {},
   "outputs": [],
   "source": [
    "# Filtering the entities to only include ones with countries from the countries list\n",
    "\n",
    "df_sentences_filtered = df_sentences[df_sentences['country_entities'].map(len) > 0]"
   ]
  },
  {
   "cell_type": "code",
   "execution_count": 25,
   "id": "c0a61150-96b5-4b39-9311-04261780b5eb",
   "metadata": {},
   "outputs": [],
   "source": [
    "relationships = []\n",
    "\n",
    "for i in range(len(df_sentences_filtered)):\n",
    "    end_i = min(i+5, len(df_sentences_filtered)-1)\n",
    "    char_list = sum(df_sentences_filtered.loc[i:end_i, 'country_entities'].tolist(), [])\n",
    "    \n",
    "    char_unique = [char_list[j] for j in range(len(char_list)) if j==0 or char_list[j] != char_list[j-1]]\n",
    "    \n",
    "    if len(char_unique) > 1:\n",
    "        for idx, a in enumerate(char_unique[:-1]):\n",
    "            b = char_unique[idx + 1]\n",
    "            relationships.append({\"source\": a, \"target\": b})"
   ]
  },
  {
   "cell_type": "code",
   "execution_count": 26,
   "id": "cf8ce87a-18db-461e-a51a-b9245b786caa",
   "metadata": {},
   "outputs": [],
   "source": [
    "# summarizing relationships\n",
    "\n",
    "relationship_df = pd.DataFrame(relationships)\n",
    "\n",
    "# Sort pairs so source-target ordering is consistent\n",
    "relationship_df = pd.DataFrame(np.sort(relationship_df.values, axis=1), columns=['source','target'])\n",
    "\n",
    "# Count number of co-occurrences\n",
    "relationship_df[\"value\"] = 1\n",
    "relationship_df = relationship_df.groupby([\"source\",\"target\"], as_index=False).sum()"
   ]
  },
  {
   "cell_type": "code",
   "execution_count": 27,
   "id": "ccbe1d5c-38ea-45b1-8809-e1b8f5eb974d",
   "metadata": {},
   "outputs": [],
   "source": [
    "relationship_df.to_csv(\"20th_century_country_relationships.csv\", index=False)"
   ]
  }
 ],
 "metadata": {
  "kernelspec": {
   "display_name": "Python (20th_century)",
   "language": "python",
   "name": "20th_century"
  },
  "language_info": {
   "codemirror_mode": {
    "name": "ipython",
    "version": 3
   },
   "file_extension": ".py",
   "mimetype": "text/x-python",
   "name": "python",
   "nbconvert_exporter": "python",
   "pygments_lexer": "ipython3",
   "version": "3.11.13"
  }
 },
 "nbformat": 4,
 "nbformat_minor": 5
}
